{
 "cells": [
  {
   "cell_type": "code",
   "execution_count": 53,
   "id": "666ae2f0-25a8-4b05-8973-07c2b6c7b586",
   "metadata": {},
   "outputs": [
    {
     "name": "stdout",
     "output_type": "stream",
     "text": [
      "The year is 2025 and the month is October and it is the 02 day\n",
      "Today is 2025-October-02\n",
      "Today is October-02-2025\n"
     ]
    }
   ],
   "source": [
    "from datetime import date\n",
    "import time\n",
    "\n",
    "today_string = str()\n",
    "today_date = date.today()\n",
    "filestring = str(\"today.txt\")\n",
    "months = [\"January\",\"February\",\"March\",\"April\",\"May\",\"June\",\"July\",\"August\",\"September\",\"October\",\"November\",\"December\"]\n",
    "fmt = \"%Y-%m-%d\"\n",
    "\n",
    "with open (filestring, \"w\") as file:\n",
    "    file.write(str(today_date))\n",
    "\n",
    "with open (filestring, \"r\") as file:\n",
    "    today_string = file.read()\n",
    "\n",
    "# print(today_string) test only\n",
    "\n",
    "new_list = today_string.split(\"-\")\n",
    "print(\"The year is\", new_list[0], \"and the month is\", months[int(new_list[1]) - 1], \"and it is the\", new_list[2],\"day\")\n",
    "\n",
    "today_string = datetime.strptime(today_string, fmt)\n",
    "print(\"Today is\", today_string.strftime(\"%Y-%B-%d\"))\n",
    "print(\"Today is\", today_string.strftime(\"%B-%d-%Y\"))"
   ]
  },
  {
   "cell_type": "code",
   "execution_count": 54,
   "id": "ce4435bd-e082-4a5d-91e7-b0ea6853b603",
   "metadata": {},
   "outputs": [],
   "source": [
    "# This doesn't work (output) in Jupyter for some reason. It does work in VSCode.\n",
    "import random\n",
    "import time\n",
    "import multiprocessing\n",
    "from datetime import datetime\n",
    "\n",
    "def random_float_generator():\n",
    "    random_float = random.uniform(0, 1)\n",
    "    return random_float\n",
    "\n",
    "def time_thing():\n",
    "    wait_time = random_float_generator()\n",
    "    time.sleep(wait_time)\n",
    "    timething = datetime.now()\n",
    "    timething = timething.strftime(\"%Y-%m-%d %H:%M:%S.%f\")\n",
    "    print(timething)\n",
    "\n",
    "if __name__ == \"__main__\":\n",
    "    n = 0\n",
    "    for n in range(3):\n",
    "        p = multiprocessing.Process(target=time_thing,\n",
    "          args=())\n",
    "        p.start()"
   ]
  },
  {
   "cell_type": "code",
   "execution_count": null,
   "id": "f45fb889-be35-4f62-a762-f2e2dbf93f36",
   "metadata": {},
   "outputs": [],
   "source": []
  }
 ],
 "metadata": {
  "kernelspec": {
   "display_name": "Python 3 (ipykernel)",
   "language": "python",
   "name": "python3"
  },
  "language_info": {
   "codemirror_mode": {
    "name": "ipython",
    "version": 3
   },
   "file_extension": ".py",
   "mimetype": "text/x-python",
   "name": "python",
   "nbconvert_exporter": "python",
   "pygments_lexer": "ipython3",
   "version": "3.13.5"
  }
 },
 "nbformat": 4,
 "nbformat_minor": 5
}
